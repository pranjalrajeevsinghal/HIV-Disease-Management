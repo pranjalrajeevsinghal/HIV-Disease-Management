{
 "cells": [
  {
   "cell_type": "code",
   "execution_count": 1,
   "id": "d5bbe62d",
   "metadata": {},
   "outputs": [],
   "source": [
    "import numpy as np\n",
    "import pandas as pd\n",
    "import matplotlib.pyplot as plt\n",
    "import seaborn as sns"
   ]
  },
  {
   "cell_type": "code",
   "execution_count": 2,
   "id": "4e224952",
   "metadata": {},
   "outputs": [],
   "source": [
    "data = pd.read_csv(r'C:\\Users\\hp\\Downloads\\AIDS dataset.csv')"
   ]
  },
  {
   "cell_type": "code",
   "execution_count": 3,
   "id": "1c8e5f12",
   "metadata": {},
   "outputs": [
    {
     "data": {
      "text/html": [
       "<div>\n",
       "<style scoped>\n",
       "    .dataframe tbody tr th:only-of-type {\n",
       "        vertical-align: middle;\n",
       "    }\n",
       "\n",
       "    .dataframe tbody tr th {\n",
       "        vertical-align: top;\n",
       "    }\n",
       "\n",
       "    .dataframe thead th {\n",
       "        text-align: right;\n",
       "    }\n",
       "</style>\n",
       "<table border=\"1\" class=\"dataframe\">\n",
       "  <thead>\n",
       "    <tr style=\"text-align: right;\">\n",
       "      <th></th>\n",
       "      <th>Age</th>\n",
       "      <th>Marital Staus</th>\n",
       "      <th>STD</th>\n",
       "      <th>Educational Background</th>\n",
       "      <th>HIV TEST IN PAST YEAR</th>\n",
       "      <th>AIDS education</th>\n",
       "      <th>Places of seeking sex partners</th>\n",
       "      <th>SEXUAL ORIENTATION</th>\n",
       "      <th>Drug- taking</th>\n",
       "      <th>Result</th>\n",
       "    </tr>\n",
       "  </thead>\n",
       "  <tbody>\n",
       "    <tr>\n",
       "      <th>0</th>\n",
       "      <td>22</td>\n",
       "      <td>UNMARRIED</td>\n",
       "      <td>NO</td>\n",
       "      <td>College Degree</td>\n",
       "      <td>YES</td>\n",
       "      <td>NO</td>\n",
       "      <td>Bar</td>\n",
       "      <td>Heterosexual</td>\n",
       "      <td>YES</td>\n",
       "      <td>POSITIVE</td>\n",
       "    </tr>\n",
       "    <tr>\n",
       "      <th>1</th>\n",
       "      <td>20</td>\n",
       "      <td>UNMARRIED</td>\n",
       "      <td>NO</td>\n",
       "      <td>College Degree</td>\n",
       "      <td>NO</td>\n",
       "      <td>YES</td>\n",
       "      <td>Others</td>\n",
       "      <td>Bisexual</td>\n",
       "      <td>NO</td>\n",
       "      <td>NEGATIVE</td>\n",
       "    </tr>\n",
       "    <tr>\n",
       "      <th>2</th>\n",
       "      <td>23</td>\n",
       "      <td>MARRIED</td>\n",
       "      <td>YES</td>\n",
       "      <td>College Degree</td>\n",
       "      <td>NO</td>\n",
       "      <td>YES</td>\n",
       "      <td>Others</td>\n",
       "      <td>Homosexual</td>\n",
       "      <td>NO</td>\n",
       "      <td>NEGATIVE</td>\n",
       "    </tr>\n",
       "    <tr>\n",
       "      <th>3</th>\n",
       "      <td>24</td>\n",
       "      <td>MARRIED</td>\n",
       "      <td>NO</td>\n",
       "      <td>College Degree</td>\n",
       "      <td>YES</td>\n",
       "      <td>NO</td>\n",
       "      <td>Park</td>\n",
       "      <td>Heterosexual</td>\n",
       "      <td>YES</td>\n",
       "      <td>POSITIVE</td>\n",
       "    </tr>\n",
       "    <tr>\n",
       "      <th>4</th>\n",
       "      <td>18</td>\n",
       "      <td>UNMARRIED</td>\n",
       "      <td>YES</td>\n",
       "      <td>Senior High School</td>\n",
       "      <td>YES</td>\n",
       "      <td>NO</td>\n",
       "      <td>Internet</td>\n",
       "      <td>Bisexual</td>\n",
       "      <td>YES</td>\n",
       "      <td>POSITIVE</td>\n",
       "    </tr>\n",
       "  </tbody>\n",
       "</table>\n",
       "</div>"
      ],
      "text/plain": [
       "   Age Marital Staus  STD Educational Background HIV TEST IN PAST YEAR  \\\n",
       "0   22     UNMARRIED   NO         College Degree                   YES   \n",
       "1   20     UNMARRIED   NO         College Degree                    NO   \n",
       "2   23       MARRIED  YES         College Degree                    NO   \n",
       "3   24       MARRIED   NO         College Degree                   YES   \n",
       "4   18     UNMARRIED  YES     Senior High School                   YES   \n",
       "\n",
       "  AIDS education Places of seeking sex partners SEXUAL ORIENTATION  \\\n",
       "0             NO                            Bar       Heterosexual   \n",
       "1            YES                         Others           Bisexual   \n",
       "2            YES                         Others         Homosexual   \n",
       "3             NO                           Park       Heterosexual   \n",
       "4             NO                       Internet           Bisexual   \n",
       "\n",
       "  Drug- taking    Result  \n",
       "0          YES  POSITIVE  \n",
       "1           NO  NEGATIVE  \n",
       "2           NO  NEGATIVE  \n",
       "3          YES  POSITIVE  \n",
       "4          YES  POSITIVE  "
      ]
     },
     "execution_count": 3,
     "metadata": {},
     "output_type": "execute_result"
    }
   ],
   "source": [
    "data.head()"
   ]
  },
  {
   "cell_type": "code",
   "execution_count": 4,
   "id": "0fa25a0a",
   "metadata": {},
   "outputs": [
    {
     "data": {
      "text/plain": [
       "(698, 10)"
      ]
     },
     "execution_count": 4,
     "metadata": {},
     "output_type": "execute_result"
    }
   ],
   "source": [
    "data.shape"
   ]
  },
  {
   "cell_type": "code",
   "execution_count": 5,
   "id": "37dc4c38",
   "metadata": {},
   "outputs": [
    {
     "data": {
      "text/plain": [
       "array(['UNMARRIED', 'MARRIED', 'Widowed', 'Divorced', 'Cohabiting'],\n",
       "      dtype=object)"
      ]
     },
     "execution_count": 5,
     "metadata": {},
     "output_type": "execute_result"
    }
   ],
   "source": [
    "data['Marital Staus'].unique()"
   ]
  },
  {
   "cell_type": "code",
   "execution_count": 6,
   "id": "24b21f02",
   "metadata": {},
   "outputs": [
    {
     "data": {
      "text/plain": [
       "array(['College Degree', 'Senior High School', 'Junior High School',\n",
       "       'Illiteracy', 'Primary School'], dtype=object)"
      ]
     },
     "execution_count": 6,
     "metadata": {},
     "output_type": "execute_result"
    }
   ],
   "source": [
    "data['Educational Background'].unique()"
   ]
  },
  {
   "cell_type": "code",
   "execution_count": 7,
   "id": "cd5774bc",
   "metadata": {},
   "outputs": [
    {
     "data": {
      "text/plain": [
       "array(['NO', 'YES'], dtype=object)"
      ]
     },
     "execution_count": 7,
     "metadata": {},
     "output_type": "execute_result"
    }
   ],
   "source": [
    "data['STD'].unique()"
   ]
  },
  {
   "cell_type": "code",
   "execution_count": 8,
   "id": "18c7e220",
   "metadata": {},
   "outputs": [
    {
     "data": {
      "text/plain": [
       "array(['YES', 'NO'], dtype=object)"
      ]
     },
     "execution_count": 8,
     "metadata": {},
     "output_type": "execute_result"
    }
   ],
   "source": [
    "data['HIV TEST IN PAST YEAR'].unique()"
   ]
  },
  {
   "cell_type": "code",
   "execution_count": 9,
   "id": "2a5aeecf",
   "metadata": {},
   "outputs": [
    {
     "data": {
      "text/plain": [
       "array(['NO', 'YES'], dtype=object)"
      ]
     },
     "execution_count": 9,
     "metadata": {},
     "output_type": "execute_result"
    }
   ],
   "source": [
    "data['AIDS education'].unique()"
   ]
  },
  {
   "cell_type": "code",
   "execution_count": 10,
   "id": "38cb142b",
   "metadata": {},
   "outputs": [
    {
     "data": {
      "text/plain": [
       "array(['Bar', 'Others', 'Park', 'Internet', 'Public Bath', 'Dance Hall'],\n",
       "      dtype=object)"
      ]
     },
     "execution_count": 10,
     "metadata": {},
     "output_type": "execute_result"
    }
   ],
   "source": [
    "data['Places of seeking sex partners'].unique()"
   ]
  },
  {
   "cell_type": "code",
   "execution_count": 11,
   "id": "dad33334",
   "metadata": {},
   "outputs": [
    {
     "data": {
      "text/plain": [
       "array(['Heterosexual', 'Bisexual', 'Homosexual'], dtype=object)"
      ]
     },
     "execution_count": 11,
     "metadata": {},
     "output_type": "execute_result"
    }
   ],
   "source": [
    "data['SEXUAL ORIENTATION'].unique()"
   ]
  },
  {
   "cell_type": "code",
   "execution_count": 12,
   "id": "df0a65c1",
   "metadata": {},
   "outputs": [
    {
     "data": {
      "text/plain": [
       "array(['POSITIVE', 'NEGATIVE'], dtype=object)"
      ]
     },
     "execution_count": 12,
     "metadata": {},
     "output_type": "execute_result"
    }
   ],
   "source": [
    "data['Result'].unique()"
   ]
  },
  {
   "cell_type": "code",
   "execution_count": 13,
   "id": "e6c3851b",
   "metadata": {},
   "outputs": [],
   "source": [
    "data['Marital Staus'] = data['Marital Staus'].replace(['UNMARRIED', 'MARRIED', 'Widowed', 'Divorced', 'Cohabiting'],[1,2,3,4,5])"
   ]
  },
  {
   "cell_type": "code",
   "execution_count": 14,
   "id": "e736907b",
   "metadata": {},
   "outputs": [],
   "source": [
    "data['Educational Background'] = data['Educational Background'].replace(['College Degree', 'Senior High School', 'Junior High School',\n",
    "       'Illiteracy', 'Primary School'],[1,2,3,4,5])"
   ]
  },
  {
   "cell_type": "code",
   "execution_count": 15,
   "id": "5bb6072a",
   "metadata": {},
   "outputs": [],
   "source": [
    "data['STD'] = data['STD'].replace(['NO', 'YES'],[1,2])"
   ]
  },
  {
   "cell_type": "code",
   "execution_count": 16,
   "id": "6bcac283",
   "metadata": {},
   "outputs": [],
   "source": [
    "data['HIV TEST IN PAST YEAR'] = data['HIV TEST IN PAST YEAR'].replace(['YES', 'NO'], [2,1])"
   ]
  },
  {
   "cell_type": "code",
   "execution_count": 17,
   "id": "77b4f0ca",
   "metadata": {},
   "outputs": [],
   "source": [
    "data['AIDS education'] = data['AIDS education'].replace(['NO', 'YES'],[1,2])"
   ]
  },
  {
   "cell_type": "code",
   "execution_count": 18,
   "id": "73f74fd6",
   "metadata": {},
   "outputs": [],
   "source": [
    "data['Places of seeking sex partners'] = data['Places of seeking sex partners'].replace(['Bar', 'Others', 'Park', 'Internet', 'Public Bath', 'Dance Hall'], [1,2,3,4,5,6])"
   ]
  },
  {
   "cell_type": "code",
   "execution_count": 19,
   "id": "94779dae",
   "metadata": {},
   "outputs": [],
   "source": [
    "data['SEXUAL ORIENTATION'] = data['SEXUAL ORIENTATION'].replace(['Heterosexual', 'Bisexual', 'Homosexual'], [1,2,3])"
   ]
  },
  {
   "cell_type": "code",
   "execution_count": 20,
   "id": "59062ed0",
   "metadata": {},
   "outputs": [
    {
     "data": {
      "text/plain": [
       "array(['YES', 'NO'], dtype=object)"
      ]
     },
     "execution_count": 20,
     "metadata": {},
     "output_type": "execute_result"
    }
   ],
   "source": [
    "data['Drug- taking'].unique()"
   ]
  },
  {
   "cell_type": "code",
   "execution_count": 21,
   "id": "972ed098",
   "metadata": {},
   "outputs": [],
   "source": [
    "data['Drug- taking'] = data['Drug- taking'].replace(['YES', 'NO'],[2,1])"
   ]
  },
  {
   "cell_type": "code",
   "execution_count": 22,
   "id": "dd77382e",
   "metadata": {},
   "outputs": [],
   "source": [
    "data['Result'] = data['Result'].replace(['POSITIVE', 'NEGATIVE'],[1,0])"
   ]
  },
  {
   "cell_type": "code",
   "execution_count": 23,
   "id": "7f1251ac",
   "metadata": {},
   "outputs": [
    {
     "data": {
      "text/html": [
       "<div>\n",
       "<style scoped>\n",
       "    .dataframe tbody tr th:only-of-type {\n",
       "        vertical-align: middle;\n",
       "    }\n",
       "\n",
       "    .dataframe tbody tr th {\n",
       "        vertical-align: top;\n",
       "    }\n",
       "\n",
       "    .dataframe thead th {\n",
       "        text-align: right;\n",
       "    }\n",
       "</style>\n",
       "<table border=\"1\" class=\"dataframe\">\n",
       "  <thead>\n",
       "    <tr style=\"text-align: right;\">\n",
       "      <th></th>\n",
       "      <th>Age</th>\n",
       "      <th>Marital Staus</th>\n",
       "      <th>STD</th>\n",
       "      <th>Educational Background</th>\n",
       "      <th>HIV TEST IN PAST YEAR</th>\n",
       "      <th>AIDS education</th>\n",
       "      <th>Places of seeking sex partners</th>\n",
       "      <th>SEXUAL ORIENTATION</th>\n",
       "      <th>Drug- taking</th>\n",
       "      <th>Result</th>\n",
       "    </tr>\n",
       "  </thead>\n",
       "  <tbody>\n",
       "    <tr>\n",
       "      <th>0</th>\n",
       "      <td>22</td>\n",
       "      <td>1</td>\n",
       "      <td>1</td>\n",
       "      <td>1</td>\n",
       "      <td>2</td>\n",
       "      <td>1</td>\n",
       "      <td>1</td>\n",
       "      <td>1</td>\n",
       "      <td>2</td>\n",
       "      <td>1</td>\n",
       "    </tr>\n",
       "    <tr>\n",
       "      <th>1</th>\n",
       "      <td>20</td>\n",
       "      <td>1</td>\n",
       "      <td>1</td>\n",
       "      <td>1</td>\n",
       "      <td>1</td>\n",
       "      <td>2</td>\n",
       "      <td>2</td>\n",
       "      <td>2</td>\n",
       "      <td>1</td>\n",
       "      <td>0</td>\n",
       "    </tr>\n",
       "    <tr>\n",
       "      <th>2</th>\n",
       "      <td>23</td>\n",
       "      <td>2</td>\n",
       "      <td>2</td>\n",
       "      <td>1</td>\n",
       "      <td>1</td>\n",
       "      <td>2</td>\n",
       "      <td>2</td>\n",
       "      <td>3</td>\n",
       "      <td>1</td>\n",
       "      <td>0</td>\n",
       "    </tr>\n",
       "    <tr>\n",
       "      <th>3</th>\n",
       "      <td>24</td>\n",
       "      <td>2</td>\n",
       "      <td>1</td>\n",
       "      <td>1</td>\n",
       "      <td>2</td>\n",
       "      <td>1</td>\n",
       "      <td>3</td>\n",
       "      <td>1</td>\n",
       "      <td>2</td>\n",
       "      <td>1</td>\n",
       "    </tr>\n",
       "    <tr>\n",
       "      <th>4</th>\n",
       "      <td>18</td>\n",
       "      <td>1</td>\n",
       "      <td>2</td>\n",
       "      <td>2</td>\n",
       "      <td>2</td>\n",
       "      <td>1</td>\n",
       "      <td>4</td>\n",
       "      <td>2</td>\n",
       "      <td>2</td>\n",
       "      <td>1</td>\n",
       "    </tr>\n",
       "  </tbody>\n",
       "</table>\n",
       "</div>"
      ],
      "text/plain": [
       "   Age  Marital Staus  STD  Educational Background  HIV TEST IN PAST YEAR  \\\n",
       "0   22              1    1                       1                      2   \n",
       "1   20              1    1                       1                      1   \n",
       "2   23              2    2                       1                      1   \n",
       "3   24              2    1                       1                      2   \n",
       "4   18              1    2                       2                      2   \n",
       "\n",
       "   AIDS education  Places of seeking sex partners  SEXUAL ORIENTATION  \\\n",
       "0               1                               1                   1   \n",
       "1               2                               2                   2   \n",
       "2               2                               2                   3   \n",
       "3               1                               3                   1   \n",
       "4               1                               4                   2   \n",
       "\n",
       "   Drug- taking  Result  \n",
       "0             2       1  \n",
       "1             1       0  \n",
       "2             1       0  \n",
       "3             2       1  \n",
       "4             2       1  "
      ]
     },
     "execution_count": 23,
     "metadata": {},
     "output_type": "execute_result"
    }
   ],
   "source": [
    "data.head()"
   ]
  },
  {
   "cell_type": "code",
   "execution_count": 24,
   "id": "6a3f5b7f",
   "metadata": {},
   "outputs": [
    {
     "data": {
      "text/html": [
       "<div>\n",
       "<style scoped>\n",
       "    .dataframe tbody tr th:only-of-type {\n",
       "        vertical-align: middle;\n",
       "    }\n",
       "\n",
       "    .dataframe tbody tr th {\n",
       "        vertical-align: top;\n",
       "    }\n",
       "\n",
       "    .dataframe thead th {\n",
       "        text-align: right;\n",
       "    }\n",
       "</style>\n",
       "<table border=\"1\" class=\"dataframe\">\n",
       "  <thead>\n",
       "    <tr style=\"text-align: right;\">\n",
       "      <th></th>\n",
       "      <th>Age</th>\n",
       "      <th>Marital Staus</th>\n",
       "      <th>STD</th>\n",
       "      <th>Educational Background</th>\n",
       "      <th>HIV TEST IN PAST YEAR</th>\n",
       "      <th>AIDS education</th>\n",
       "      <th>Places of seeking sex partners</th>\n",
       "      <th>SEXUAL ORIENTATION</th>\n",
       "      <th>Drug- taking</th>\n",
       "      <th>Result</th>\n",
       "    </tr>\n",
       "  </thead>\n",
       "  <tbody>\n",
       "    <tr>\n",
       "      <th>Age</th>\n",
       "      <td>1.000000</td>\n",
       "      <td>0.272989</td>\n",
       "      <td>0.045516</td>\n",
       "      <td>-0.038994</td>\n",
       "      <td>0.120560</td>\n",
       "      <td>0.036408</td>\n",
       "      <td>-0.062517</td>\n",
       "      <td>-0.082118</td>\n",
       "      <td>0.110732</td>\n",
       "      <td>-0.169052</td>\n",
       "    </tr>\n",
       "    <tr>\n",
       "      <th>Marital Staus</th>\n",
       "      <td>0.272989</td>\n",
       "      <td>1.000000</td>\n",
       "      <td>0.105080</td>\n",
       "      <td>-0.041932</td>\n",
       "      <td>0.146010</td>\n",
       "      <td>-0.012101</td>\n",
       "      <td>-0.054463</td>\n",
       "      <td>-0.043267</td>\n",
       "      <td>0.011866</td>\n",
       "      <td>-0.048148</td>\n",
       "    </tr>\n",
       "    <tr>\n",
       "      <th>STD</th>\n",
       "      <td>0.045516</td>\n",
       "      <td>0.105080</td>\n",
       "      <td>1.000000</td>\n",
       "      <td>0.036793</td>\n",
       "      <td>0.221228</td>\n",
       "      <td>0.036512</td>\n",
       "      <td>0.027273</td>\n",
       "      <td>-0.058430</td>\n",
       "      <td>0.139375</td>\n",
       "      <td>0.016448</td>\n",
       "    </tr>\n",
       "    <tr>\n",
       "      <th>Educational Background</th>\n",
       "      <td>-0.038994</td>\n",
       "      <td>-0.041932</td>\n",
       "      <td>0.036793</td>\n",
       "      <td>1.000000</td>\n",
       "      <td>-0.024088</td>\n",
       "      <td>-0.163089</td>\n",
       "      <td>-0.062825</td>\n",
       "      <td>-0.028669</td>\n",
       "      <td>0.002829</td>\n",
       "      <td>-0.021441</td>\n",
       "    </tr>\n",
       "    <tr>\n",
       "      <th>HIV TEST IN PAST YEAR</th>\n",
       "      <td>0.120560</td>\n",
       "      <td>0.146010</td>\n",
       "      <td>0.221228</td>\n",
       "      <td>-0.024088</td>\n",
       "      <td>1.000000</td>\n",
       "      <td>0.174595</td>\n",
       "      <td>-0.027448</td>\n",
       "      <td>-0.039752</td>\n",
       "      <td>0.152513</td>\n",
       "      <td>-0.134060</td>\n",
       "    </tr>\n",
       "    <tr>\n",
       "      <th>AIDS education</th>\n",
       "      <td>0.036408</td>\n",
       "      <td>-0.012101</td>\n",
       "      <td>0.036512</td>\n",
       "      <td>-0.163089</td>\n",
       "      <td>0.174595</td>\n",
       "      <td>1.000000</td>\n",
       "      <td>-0.041253</td>\n",
       "      <td>-0.001238</td>\n",
       "      <td>0.092249</td>\n",
       "      <td>-0.227178</td>\n",
       "    </tr>\n",
       "    <tr>\n",
       "      <th>Places of seeking sex partners</th>\n",
       "      <td>-0.062517</td>\n",
       "      <td>-0.054463</td>\n",
       "      <td>0.027273</td>\n",
       "      <td>-0.062825</td>\n",
       "      <td>-0.027448</td>\n",
       "      <td>-0.041253</td>\n",
       "      <td>1.000000</td>\n",
       "      <td>0.107786</td>\n",
       "      <td>-0.067411</td>\n",
       "      <td>0.472027</td>\n",
       "    </tr>\n",
       "    <tr>\n",
       "      <th>SEXUAL ORIENTATION</th>\n",
       "      <td>-0.082118</td>\n",
       "      <td>-0.043267</td>\n",
       "      <td>-0.058430</td>\n",
       "      <td>-0.028669</td>\n",
       "      <td>-0.039752</td>\n",
       "      <td>-0.001238</td>\n",
       "      <td>0.107786</td>\n",
       "      <td>1.000000</td>\n",
       "      <td>-0.027665</td>\n",
       "      <td>0.108905</td>\n",
       "    </tr>\n",
       "    <tr>\n",
       "      <th>Drug- taking</th>\n",
       "      <td>0.110732</td>\n",
       "      <td>0.011866</td>\n",
       "      <td>0.139375</td>\n",
       "      <td>0.002829</td>\n",
       "      <td>0.152513</td>\n",
       "      <td>0.092249</td>\n",
       "      <td>-0.067411</td>\n",
       "      <td>-0.027665</td>\n",
       "      <td>1.000000</td>\n",
       "      <td>-0.264740</td>\n",
       "    </tr>\n",
       "    <tr>\n",
       "      <th>Result</th>\n",
       "      <td>-0.169052</td>\n",
       "      <td>-0.048148</td>\n",
       "      <td>0.016448</td>\n",
       "      <td>-0.021441</td>\n",
       "      <td>-0.134060</td>\n",
       "      <td>-0.227178</td>\n",
       "      <td>0.472027</td>\n",
       "      <td>0.108905</td>\n",
       "      <td>-0.264740</td>\n",
       "      <td>1.000000</td>\n",
       "    </tr>\n",
       "  </tbody>\n",
       "</table>\n",
       "</div>"
      ],
      "text/plain": [
       "                                     Age  Marital Staus       STD  \\\n",
       "Age                             1.000000       0.272989  0.045516   \n",
       "Marital Staus                   0.272989       1.000000  0.105080   \n",
       "STD                             0.045516       0.105080  1.000000   \n",
       "Educational Background         -0.038994      -0.041932  0.036793   \n",
       "HIV TEST IN PAST YEAR           0.120560       0.146010  0.221228   \n",
       "AIDS education                  0.036408      -0.012101  0.036512   \n",
       "Places of seeking sex partners -0.062517      -0.054463  0.027273   \n",
       "SEXUAL ORIENTATION             -0.082118      -0.043267 -0.058430   \n",
       "Drug- taking                    0.110732       0.011866  0.139375   \n",
       "Result                         -0.169052      -0.048148  0.016448   \n",
       "\n",
       "                                Educational Background  HIV TEST IN PAST YEAR  \\\n",
       "Age                                          -0.038994               0.120560   \n",
       "Marital Staus                                -0.041932               0.146010   \n",
       "STD                                           0.036793               0.221228   \n",
       "Educational Background                        1.000000              -0.024088   \n",
       "HIV TEST IN PAST YEAR                        -0.024088               1.000000   \n",
       "AIDS education                               -0.163089               0.174595   \n",
       "Places of seeking sex partners               -0.062825              -0.027448   \n",
       "SEXUAL ORIENTATION                           -0.028669              -0.039752   \n",
       "Drug- taking                                  0.002829               0.152513   \n",
       "Result                                       -0.021441              -0.134060   \n",
       "\n",
       "                                AIDS education  \\\n",
       "Age                                   0.036408   \n",
       "Marital Staus                        -0.012101   \n",
       "STD                                   0.036512   \n",
       "Educational Background               -0.163089   \n",
       "HIV TEST IN PAST YEAR                 0.174595   \n",
       "AIDS education                        1.000000   \n",
       "Places of seeking sex partners       -0.041253   \n",
       "SEXUAL ORIENTATION                   -0.001238   \n",
       "Drug- taking                          0.092249   \n",
       "Result                               -0.227178   \n",
       "\n",
       "                                Places of seeking sex partners  \\\n",
       "Age                                                  -0.062517   \n",
       "Marital Staus                                        -0.054463   \n",
       "STD                                                   0.027273   \n",
       "Educational Background                               -0.062825   \n",
       "HIV TEST IN PAST YEAR                                -0.027448   \n",
       "AIDS education                                       -0.041253   \n",
       "Places of seeking sex partners                        1.000000   \n",
       "SEXUAL ORIENTATION                                    0.107786   \n",
       "Drug- taking                                         -0.067411   \n",
       "Result                                                0.472027   \n",
       "\n",
       "                                SEXUAL ORIENTATION  Drug- taking    Result  \n",
       "Age                                      -0.082118      0.110732 -0.169052  \n",
       "Marital Staus                            -0.043267      0.011866 -0.048148  \n",
       "STD                                      -0.058430      0.139375  0.016448  \n",
       "Educational Background                   -0.028669      0.002829 -0.021441  \n",
       "HIV TEST IN PAST YEAR                    -0.039752      0.152513 -0.134060  \n",
       "AIDS education                           -0.001238      0.092249 -0.227178  \n",
       "Places of seeking sex partners            0.107786     -0.067411  0.472027  \n",
       "SEXUAL ORIENTATION                        1.000000     -0.027665  0.108905  \n",
       "Drug- taking                             -0.027665      1.000000 -0.264740  \n",
       "Result                                    0.108905     -0.264740  1.000000  "
      ]
     },
     "execution_count": 24,
     "metadata": {},
     "output_type": "execute_result"
    }
   ],
   "source": [
    "data.corr()"
   ]
  },
  {
   "cell_type": "code",
   "execution_count": 25,
   "id": "44dd68b6",
   "metadata": {},
   "outputs": [
    {
     "data": {
      "image/png": "[encoded data removed]",
      "text/plain": [
       "<Figure size 864x720 with 2 Axes>"
      ]
     },
     "metadata": {},
     "output_type": "display_data"
    }
   ],
   "source": [
    "sns.set(font_scale=1.2)\n",
    "fig, ax = plt.subplots(figsize=(12, 10))\n",
    "sns.heatmap(data.corr(), annot=True, cmap='coolwarm', square=True, cbar_kws={'shrink': 0.8}, ax=ax)\n",
    "\n",
    "# Add title and axis labels\n",
    "ax.set_title('Correlation Matrix', fontsize=20)\n",
    "ax.set_xlabel('Variables', fontsize=16)\n",
    "ax.set_ylabel('Variables', fontsize=16)\n",
    "\n",
    "# Save the plot as a high-quality image file\n",
    "fig.savefig('correlation_matrix.png', dpi=300, bbox_inches='tight')"
   ]
  },
  {
   "cell_type": "code",
   "execution_count": 26,
   "id": "21b8b100",
   "metadata": {},
   "outputs": [],
   "source": [
    "d = data[['Age', 'STD', 'HIV TEST IN PAST YEAR', 'AIDS education', 'Places of seeking sex partners', 'SEXUAL ORIENTATION', 'Drug- taking', 'Result']]\n",
    "data1 = data[['Age', 'AIDS education', 'Places of seeking sex partners', 'Drug- taking', 'Result']]"
   ]
  },
  {
   "cell_type": "code",
   "execution_count": 27,
   "id": "c6b64e3b",
   "metadata": {},
   "outputs": [
    {
     "data": {
      "text/html": [
       "<div>\n",
       "<style scoped>\n",
       "    .dataframe tbody tr th:only-of-type {\n",
       "        vertical-align: middle;\n",
       "    }\n",
       "\n",
       "    .dataframe tbody tr th {\n",
       "        vertical-align: top;\n",
       "    }\n",
       "\n",
       "    .dataframe thead th {\n",
       "        text-align: right;\n",
       "    }\n",
       "</style>\n",
       "<table border=\"1\" class=\"dataframe\">\n",
       "  <thead>\n",
       "    <tr style=\"text-align: right;\">\n",
       "      <th></th>\n",
       "      <th>Age</th>\n",
       "      <th>STD</th>\n",
       "      <th>HIV TEST IN PAST YEAR</th>\n",
       "      <th>AIDS education</th>\n",
       "      <th>Places of seeking sex partners</th>\n",
       "      <th>SEXUAL ORIENTATION</th>\n",
       "      <th>Drug- taking</th>\n",
       "      <th>Result</th>\n",
       "    </tr>\n",
       "  </thead>\n",
       "  <tbody>\n",
       "    <tr>\n",
       "      <th>0</th>\n",
       "      <td>22</td>\n",
       "      <td>1</td>\n",
       "      <td>2</td>\n",
       "      <td>1</td>\n",
       "      <td>1</td>\n",
       "      <td>1</td>\n",
       "      <td>2</td>\n",
       "      <td>1</td>\n",
       "    </tr>\n",
       "    <tr>\n",
       "      <th>1</th>\n",
       "      <td>20</td>\n",
       "      <td>1</td>\n",
       "      <td>1</td>\n",
       "      <td>2</td>\n",
       "      <td>2</td>\n",
       "      <td>2</td>\n",
       "      <td>1</td>\n",
       "      <td>0</td>\n",
       "    </tr>\n",
       "    <tr>\n",
       "      <th>2</th>\n",
       "      <td>23</td>\n",
       "      <td>2</td>\n",
       "      <td>1</td>\n",
       "      <td>2</td>\n",
       "      <td>2</td>\n",
       "      <td>3</td>\n",
       "      <td>1</td>\n",
       "      <td>0</td>\n",
       "    </tr>\n",
       "    <tr>\n",
       "      <th>3</th>\n",
       "      <td>24</td>\n",
       "      <td>1</td>\n",
       "      <td>2</td>\n",
       "      <td>1</td>\n",
       "      <td>3</td>\n",
       "      <td>1</td>\n",
       "      <td>2</td>\n",
       "      <td>1</td>\n",
       "    </tr>\n",
       "    <tr>\n",
       "      <th>4</th>\n",
       "      <td>18</td>\n",
       "      <td>2</td>\n",
       "      <td>2</td>\n",
       "      <td>1</td>\n",
       "      <td>4</td>\n",
       "      <td>2</td>\n",
       "      <td>2</td>\n",
       "      <td>1</td>\n",
       "    </tr>\n",
       "    <tr>\n",
       "      <th>...</th>\n",
       "      <td>...</td>\n",
       "      <td>...</td>\n",
       "      <td>...</td>\n",
       "      <td>...</td>\n",
       "      <td>...</td>\n",
       "      <td>...</td>\n",
       "      <td>...</td>\n",
       "      <td>...</td>\n",
       "    </tr>\n",
       "    <tr>\n",
       "      <th>693</th>\n",
       "      <td>19</td>\n",
       "      <td>2</td>\n",
       "      <td>1</td>\n",
       "      <td>1</td>\n",
       "      <td>4</td>\n",
       "      <td>1</td>\n",
       "      <td>1</td>\n",
       "      <td>1</td>\n",
       "    </tr>\n",
       "    <tr>\n",
       "      <th>694</th>\n",
       "      <td>47</td>\n",
       "      <td>1</td>\n",
       "      <td>1</td>\n",
       "      <td>2</td>\n",
       "      <td>1</td>\n",
       "      <td>2</td>\n",
       "      <td>1</td>\n",
       "      <td>0</td>\n",
       "    </tr>\n",
       "    <tr>\n",
       "      <th>695</th>\n",
       "      <td>34</td>\n",
       "      <td>2</td>\n",
       "      <td>2</td>\n",
       "      <td>2</td>\n",
       "      <td>3</td>\n",
       "      <td>3</td>\n",
       "      <td>2</td>\n",
       "      <td>0</td>\n",
       "    </tr>\n",
       "    <tr>\n",
       "      <th>696</th>\n",
       "      <td>25</td>\n",
       "      <td>1</td>\n",
       "      <td>1</td>\n",
       "      <td>1</td>\n",
       "      <td>5</td>\n",
       "      <td>1</td>\n",
       "      <td>2</td>\n",
       "      <td>1</td>\n",
       "    </tr>\n",
       "    <tr>\n",
       "      <th>697</th>\n",
       "      <td>46</td>\n",
       "      <td>2</td>\n",
       "      <td>2</td>\n",
       "      <td>1</td>\n",
       "      <td>4</td>\n",
       "      <td>3</td>\n",
       "      <td>1</td>\n",
       "      <td>1</td>\n",
       "    </tr>\n",
       "  </tbody>\n",
       "</table>\n",
       "<p>698 rows × 8 columns</p>\n",
       "</div>"
      ],
      "text/plain": [
       "     Age  STD  HIV TEST IN PAST YEAR  AIDS education  \\\n",
       "0     22    1                      2               1   \n",
       "1     20    1                      1               2   \n",
       "2     23    2                      1               2   \n",
       "3     24    1                      2               1   \n",
       "4     18    2                      2               1   \n",
       "..   ...  ...                    ...             ...   \n",
       "693   19    2                      1               1   \n",
       "694   47    1                      1               2   \n",
       "695   34    2                      2               2   \n",
       "696   25    1                      1               1   \n",
       "697   46    2                      2               1   \n",
       "\n",
       "     Places of seeking sex partners  SEXUAL ORIENTATION  Drug- taking  Result  \n",
       "0                                 1                   1             2       1  \n",
       "1                                 2                   2             1       0  \n",
       "2                                 2                   3             1       0  \n",
       "3                                 3                   1             2       1  \n",
       "4                                 4                   2             2       1  \n",
       "..                              ...                 ...           ...     ...  \n",
       "693                               4                   1             1       1  \n",
       "694                               1                   2             1       0  \n",
       "695                               3                   3             2       0  \n",
       "696                               5                   1             2       1  \n",
       "697                               4                   3             1       1  \n",
       "\n",
       "[698 rows x 8 columns]"
      ]
     },
     "execution_count": 27,
     "metadata": {},
     "output_type": "execute_result"
    }
   ],
   "source": [
    "d"
   ]
  },
  {
   "cell_type": "code",
   "execution_count": 28,
   "id": "1efc005c",
   "metadata": {},
   "outputs": [],
   "source": [
    "x = d.drop('Result', axis=1)\n",
    "y = d['Result']"
   ]
  },
  {
   "cell_type": "code",
   "execution_count": 29,
   "id": "aa9383aa",
   "metadata": {},
   "outputs": [
    {
     "data": {
      "text/html": [
       "<div>\n",
       "<style scoped>\n",
       "    .dataframe tbody tr th:only-of-type {\n",
       "        vertical-align: middle;\n",
       "    }\n",
       "\n",
       "    .dataframe tbody tr th {\n",
       "        vertical-align: top;\n",
       "    }\n",
       "\n",
       "    .dataframe thead th {\n",
       "        text-align: right;\n",
       "    }\n",
       "</style>\n",
       "<table border=\"1\" class=\"dataframe\">\n",
       "  <thead>\n",
       "    <tr style=\"text-align: right;\">\n",
       "      <th></th>\n",
       "      <th>Age</th>\n",
       "      <th>STD</th>\n",
       "      <th>HIV TEST IN PAST YEAR</th>\n",
       "      <th>AIDS education</th>\n",
       "      <th>Places of seeking sex partners</th>\n",
       "      <th>SEXUAL ORIENTATION</th>\n",
       "      <th>Drug- taking</th>\n",
       "    </tr>\n",
       "  </thead>\n",
       "  <tbody>\n",
       "    <tr>\n",
       "      <th>0</th>\n",
       "      <td>22</td>\n",
       "      <td>1</td>\n",
       "      <td>2</td>\n",
       "      <td>1</td>\n",
       "      <td>1</td>\n",
       "      <td>1</td>\n",
       "      <td>2</td>\n",
       "    </tr>\n",
       "    <tr>\n",
       "      <th>1</th>\n",
       "      <td>20</td>\n",
       "      <td>1</td>\n",
       "      <td>1</td>\n",
       "      <td>2</td>\n",
       "      <td>2</td>\n",
       "      <td>2</td>\n",
       "      <td>1</td>\n",
       "    </tr>\n",
       "    <tr>\n",
       "      <th>2</th>\n",
       "      <td>23</td>\n",
       "      <td>2</td>\n",
       "      <td>1</td>\n",
       "      <td>2</td>\n",
       "      <td>2</td>\n",
       "      <td>3</td>\n",
       "      <td>1</td>\n",
       "    </tr>\n",
       "    <tr>\n",
       "      <th>3</th>\n",
       "      <td>24</td>\n",
       "      <td>1</td>\n",
       "      <td>2</td>\n",
       "      <td>1</td>\n",
       "      <td>3</td>\n",
       "      <td>1</td>\n",
       "      <td>2</td>\n",
       "    </tr>\n",
       "    <tr>\n",
       "      <th>4</th>\n",
       "      <td>18</td>\n",
       "      <td>2</td>\n",
       "      <td>2</td>\n",
       "      <td>1</td>\n",
       "      <td>4</td>\n",
       "      <td>2</td>\n",
       "      <td>2</td>\n",
       "    </tr>\n",
       "    <tr>\n",
       "      <th>...</th>\n",
       "      <td>...</td>\n",
       "      <td>...</td>\n",
       "      <td>...</td>\n",
       "      <td>...</td>\n",
       "      <td>...</td>\n",
       "      <td>...</td>\n",
       "      <td>...</td>\n",
       "    </tr>\n",
       "    <tr>\n",
       "      <th>693</th>\n",
       "      <td>19</td>\n",
       "      <td>2</td>\n",
       "      <td>1</td>\n",
       "      <td>1</td>\n",
       "      <td>4</td>\n",
       "      <td>1</td>\n",
       "      <td>1</td>\n",
       "    </tr>\n",
       "    <tr>\n",
       "      <th>694</th>\n",
       "      <td>47</td>\n",
       "      <td>1</td>\n",
       "      <td>1</td>\n",
       "      <td>2</td>\n",
       "      <td>1</td>\n",
       "      <td>2</td>\n",
       "      <td>1</td>\n",
       "    </tr>\n",
       "    <tr>\n",
       "      <th>695</th>\n",
       "      <td>34</td>\n",
       "      <td>2</td>\n",
       "      <td>2</td>\n",
       "      <td>2</td>\n",
       "      <td>3</td>\n",
       "      <td>3</td>\n",
       "      <td>2</td>\n",
       "    </tr>\n",
       "    <tr>\n",
       "      <th>696</th>\n",
       "      <td>25</td>\n",
       "      <td>1</td>\n",
       "      <td>1</td>\n",
       "      <td>1</td>\n",
       "      <td>5</td>\n",
       "      <td>1</td>\n",
       "      <td>2</td>\n",
       "    </tr>\n",
       "    <tr>\n",
       "      <th>697</th>\n",
       "      <td>46</td>\n",
       "      <td>2</td>\n",
       "      <td>2</td>\n",
       "      <td>1</td>\n",
       "      <td>4</td>\n",
       "      <td>3</td>\n",
       "      <td>1</td>\n",
       "    </tr>\n",
       "  </tbody>\n",
       "</table>\n",
       "<p>698 rows × 7 columns</p>\n",
       "</div>"
      ],
      "text/plain": [
       "     Age  STD  HIV TEST IN PAST YEAR  AIDS education  \\\n",
       "0     22    1                      2               1   \n",
       "1     20    1                      1               2   \n",
       "2     23    2                      1               2   \n",
       "3     24    1                      2               1   \n",
       "4     18    2                      2               1   \n",
       "..   ...  ...                    ...             ...   \n",
       "693   19    2                      1               1   \n",
       "694   47    1                      1               2   \n",
       "695   34    2                      2               2   \n",
       "696   25    1                      1               1   \n",
       "697   46    2                      2               1   \n",
       "\n",
       "     Places of seeking sex partners  SEXUAL ORIENTATION  Drug- taking  \n",
       "0                                 1                   1             2  \n",
       "1                                 2                   2             1  \n",
       "2                                 2                   3             1  \n",
       "3                                 3                   1             2  \n",
       "4                                 4                   2             2  \n",
       "..                              ...                 ...           ...  \n",
       "693                               4                   1             1  \n",
       "694                               1                   2             1  \n",
       "695                               3                   3             2  \n",
       "696                               5                   1             2  \n",
       "697                               4                   3             1  \n",
       "\n",
       "[698 rows x 7 columns]"
      ]
     },
     "execution_count": 29,
     "metadata": {},
     "output_type": "execute_result"
    }
   ],
   "source": [
    "x"
   ]
  },
  {
   "cell_type": "code",
   "execution_count": 30,
   "id": "27dd6fcc",
   "metadata": {},
   "outputs": [
    {
     "data": {
      "text/plain": [
       "0      1\n",
       "1      0\n",
       "2      0\n",
       "3      1\n",
       "4      1\n",
       "      ..\n",
       "693    1\n",
       "694    0\n",
       "695    0\n",
       "696    1\n",
       "697    1\n",
       "Name: Result, Length: 698, dtype: int64"
      ]
     },
     "execution_count": 30,
     "metadata": {},
     "output_type": "execute_result"
    }
   ],
   "source": [
    "y"
   ]
  },
  {
   "cell_type": "code",
   "execution_count": 31,
   "id": "f16fd449",
   "metadata": {},
   "outputs": [
    {
     "data": {
      "text/plain": [
       "Age                               0\n",
       "STD                               0\n",
       "HIV TEST IN PAST YEAR             0\n",
       "AIDS education                    0\n",
       "Places of seeking sex partners    0\n",
       "SEXUAL ORIENTATION                0\n",
       "Drug- taking                      0\n",
       "Result                            0\n",
       "dtype: int64"
      ]
     },
     "execution_count": 31,
     "metadata": {},
     "output_type": "execute_result"
    }
   ],
   "source": [
    "d.isnull().sum()"
   ]
  },
  {
   "cell_type": "markdown",
   "id": "61f917fa",
   "metadata": {},
   "source": [
    "**train test split**"
   ]
  },
  {
   "cell_type": "code",
   "execution_count": 32,
   "id": "e22e6721",
   "metadata": {},
   "outputs": [],
   "source": [
    "from sklearn.model_selection import train_test_split # module for splitting the data"
   ]
  },
  {
   "cell_type": "code",
   "execution_count": 33,
   "id": "696129d8",
   "metadata": {},
   "outputs": [],
   "source": [
    "X_train,X_test,y_train,y_test = train_test_split(x,y,test_size = 0.20,random_state=42)"
   ]
  },
  {
   "cell_type": "code",
   "execution_count": 34,
   "id": "10ae410c",
   "metadata": {},
   "outputs": [],
   "source": [
    "from sklearn.preprocessing import StandardScaler"
   ]
  },
  {
   "cell_type": "code",
   "execution_count": 35,
   "id": "c05fe2e6",
   "metadata": {},
   "outputs": [],
   "source": [
    "sc = StandardScaler()\n",
    "X_train = sc.fit_transform(X_train)\n",
    "X_test = sc.transform(X_test) # here the data is already fitted in scale from first step hence simply sc.transform"
   ]
  },
  {
   "cell_type": "code",
   "execution_count": 36,
   "id": "9d839589",
   "metadata": {},
   "outputs": [],
   "source": [
    "y_train = np.array(y_train)\n",
    "y_test = np.array(y_test)"
   ]
  },
  {
   "cell_type": "code",
   "execution_count": 37,
   "id": "b6317349",
   "metadata": {},
   "outputs": [],
   "source": [
    "from sklearn.linear_model import LogisticRegression\n",
    "from sklearn import svm\n",
    "from sklearn.neighbors import KNeighborsClassifier\n",
    "from sklearn.ensemble import RandomForestClassifier\n",
    "from sklearn.ensemble import GradientBoostingClassifier\n",
    "from sklearn.metrics import accuracy_score # to know about the performance of different classification models"
   ]
  },
  {
   "cell_type": "code",
   "execution_count": 38,
   "id": "c2f5e661",
   "metadata": {},
   "outputs": [
    {
     "name": "stdout",
     "output_type": "stream",
     "text": [
      "0.7571428571428571\n"
     ]
    }
   ],
   "source": [
    "lr = LogisticRegression()\n",
    "lr.fit(X_train,y_train)\n",
    "yc1 = lr.predict(X_test)\n",
    "print(accuracy_score(y_test,yc1))"
   ]
  },
  {
   "cell_type": "code",
   "execution_count": 39,
   "id": "33a8ee01",
   "metadata": {},
   "outputs": [
    {
     "name": "stdout",
     "output_type": "stream",
     "text": [
      "0.8\n"
     ]
    }
   ],
   "source": [
    "s = svm.SVC()\n",
    "s.fit(X_train,y_train)\n",
    "yc2 = s.predict(X_test)\n",
    "print(accuracy_score(y_test,yc2))"
   ]
  },
  {
   "cell_type": "code",
   "execution_count": 40,
   "id": "6d054646",
   "metadata": {},
   "outputs": [
    {
     "name": "stdout",
     "output_type": "stream",
     "text": [
      "0.8142857142857143\n"
     ]
    }
   ],
   "source": [
    "k = KNeighborsClassifier()\n",
    "k.fit(X_train,y_train)\n",
    "yc3 = k.predict(X_test)\n",
    "print(accuracy_score(y_test,yc3))"
   ]
  },
  {
   "cell_type": "code",
   "execution_count": 41,
   "id": "b256146d",
   "metadata": {},
   "outputs": [
    {
     "name": "stdout",
     "output_type": "stream",
     "text": [
      "0.8428571428571429\n"
     ]
    }
   ],
   "source": [
    "r= RandomForestClassifier()\n",
    "r.fit(X_train,y_train)\n",
    "yc4 = r.predict(X_test)\n",
    "print(accuracy_score(y_test,yc4))"
   ]
  },
  {
   "cell_type": "code",
   "execution_count": 42,
   "id": "394d8356",
   "metadata": {},
   "outputs": [
    {
     "name": "stdout",
     "output_type": "stream",
     "text": [
      "0.7928571428571428\n"
     ]
    }
   ],
   "source": [
    "g = GradientBoostingClassifier()\n",
    "g.fit(X_train,y_train)\n",
    "yc5 = g.predict(X_test)\n",
    "print(accuracy_score(y_test,yc5))"
   ]
  },
  {
   "cell_type": "code",
   "execution_count": 43,
   "id": "7f324801",
   "metadata": {},
   "outputs": [
    {
     "data": {
      "text/plain": [
       "array([[-1.00228306, -0.91077341,  1.24416446, ..., -1.45960415,\n",
       "        -0.88600463,  1.10194633],\n",
       "       [-1.11041801, -0.91077341, -0.80375226, ..., -0.77287639,\n",
       "         0.27181875, -0.90748521],\n",
       "       [-0.94821559,  1.09796794, -0.80375226, ..., -0.77287639,\n",
       "         1.42964213, -0.90748521],\n",
       "       ...,\n",
       "       [-0.35347338,  1.09796794,  1.24416446, ..., -0.08614864,\n",
       "         1.42964213,  1.10194633],\n",
       "       [-0.84008064, -0.91077341, -0.80375226, ...,  1.28730686,\n",
       "        -0.88600463,  1.10194633],\n",
       "       [ 0.29533631,  1.09796794,  1.24416446, ...,  0.60057911,\n",
       "         1.42964213, -0.90748521]])"
      ]
     },
     "execution_count": 43,
     "metadata": {},
     "output_type": "execute_result"
    }
   ],
   "source": [
    "sc.transform(x)"
   ]
  },
  {
   "cell_type": "code",
   "execution_count": 44,
   "id": "52ef9017",
   "metadata": {},
   "outputs": [],
   "source": [
    "y = np.array(y)"
   ]
  },
  {
   "cell_type": "code",
   "execution_count": 45,
   "id": "60bba959",
   "metadata": {},
   "outputs": [
    {
     "data": {
      "text/plain": [
       "RandomForestClassifier()"
      ]
     },
     "execution_count": 45,
     "metadata": {},
     "output_type": "execute_result"
    }
   ],
   "source": [
    "lr = RandomForestClassifier()\n",
    "lr.fit(x,y)"
   ]
  },
  {
   "cell_type": "code",
   "execution_count": 46,
   "id": "0748c7e4",
   "metadata": {},
   "outputs": [
    {
     "data": {
      "text/plain": [
       "['hiv']"
      ]
     },
     "execution_count": 46,
     "metadata": {},
     "output_type": "execute_result"
    }
   ],
   "source": [
    "import joblib\n",
    "joblib.dump(lr,'hiv')"
   ]
  },
  {
   "cell_type": "code",
   "execution_count": 47,
   "id": "ba575d99",
   "metadata": {},
   "outputs": [],
   "source": [
    "model = joblib.load('hiv')"
   ]
  },
  {
   "cell_type": "code",
   "execution_count": 48,
   "id": "1d62728a",
   "metadata": {},
   "outputs": [
    {
     "name": "stderr",
     "output_type": "stream",
     "text": [
      "c:\\users\\hp\\appdata\\local\\programs\\python\\python39\\lib\\site-packages\\sklearn\\base.py:445: UserWarning: X does not have valid feature names, but StandardScaler was fitted with feature names\n",
      "  warnings.warn(\n",
      "c:\\users\\hp\\appdata\\local\\programs\\python\\python39\\lib\\site-packages\\sklearn\\base.py:445: UserWarning: X does not have valid feature names, but RandomForestClassifier was fitted with feature names\n",
      "  warnings.warn(\n"
     ]
    },
    {
     "data": {
      "text/plain": [
       "array([0], dtype=int64)"
      ]
     },
     "execution_count": 48,
     "metadata": {},
     "output_type": "execute_result"
    }
   ],
   "source": [
    "model.predict(sc.transform([[23,2,1,2,2,3,1]]))"
   ]
  },
  {
   "cell_type": "code",
   "execution_count": 49,
   "id": "66f7b840",
   "metadata": {},
   "outputs": [
    {
     "name": "stderr",
     "output_type": "stream",
     "text": [
      "c:\\users\\hp\\appdata\\local\\programs\\python\\python39\\lib\\site-packages\\sklearn\\base.py:445: UserWarning: X does not have valid feature names, but RandomForestClassifier was fitted with feature names\n",
      "  warnings.warn(\n"
     ]
    },
    {
     "data": {
      "text/plain": [
       "array([0, 0, 0, 0, 0, 0, 0, 0, 0, 0, 0, 0, 0, 0, 0, 0, 0, 0, 0, 0, 0, 0,\n",
       "       0, 0, 0, 0, 0, 0, 0, 0, 0, 0, 0, 0, 0, 0, 0, 0, 0, 0, 0, 0, 0, 0,\n",
       "       0, 0, 0, 0, 0, 0, 0, 0, 0, 0, 0, 0, 0, 0, 0, 0, 0, 0, 0, 0, 0, 0,\n",
       "       0, 0, 0, 0, 0, 0, 0, 0, 0, 0, 0, 0, 0, 0, 0, 0, 0, 0, 0, 0, 0, 0,\n",
       "       0, 0, 0, 0, 0, 0, 0, 0, 0, 0, 0, 0, 0, 0, 0, 0, 0, 0, 0, 0, 0, 0,\n",
       "       0, 0, 0, 0, 0, 0, 0, 0, 0, 0, 0, 0, 0, 0, 0, 0, 0, 0, 0, 0, 0, 0,\n",
       "       0, 0, 0, 0, 0, 0, 0, 0], dtype=int64)"
      ]
     },
     "execution_count": 49,
     "metadata": {},
     "output_type": "execute_result"
    }
   ],
   "source": [
    "import pickle\n",
    "md = pickle.dumps(lr)\n",
    "md1 = pickle.loads(md)\n",
    "md1.predict(X_test)"
   ]
  },
  {
   "cell_type": "code",
   "execution_count": 50,
   "id": "2ac95127",
   "metadata": {},
   "outputs": [],
   "source": [
    "import pickle\n",
    "file = open('Model_HIV.pkl', 'wb')\n",
    "pickle.dump(lr, file)"
   ]
  },
  {
   "cell_type": "code",
   "execution_count": 51,
   "id": "33942f2b",
   "metadata": {},
   "outputs": [
    {
     "data": {
      "text/plain": [
       "<_io.BufferedWriter name='Model_HIV.pkl'>"
      ]
     },
     "execution_count": 51,
     "metadata": {},
     "output_type": "execute_result"
    }
   ],
   "source": [
    "file"
   ]
  },
  {
   "cell_type": "code",
   "execution_count": 52,
   "id": "faa3591f",
   "metadata": {},
   "outputs": [
    {
     "name": "stdout",
     "output_type": "stream",
     "text": [
      "Requirement already satisfied: xgboost in c:\\users\\hp\\appdata\\local\\programs\\python\\python39\\lib\\site-packages (1.7.5)\n",
      "Requirement already satisfied: scipy in c:\\users\\hp\\appdata\\local\\programs\\python\\python39\\lib\\site-packages (from xgboost) (1.7.3)\n",
      "Requirement already satisfied: numpy in c:\\users\\hp\\appdata\\local\\programs\\python\\python39\\lib\\site-packages (from xgboost) (1.21.4)\n",
      "Note: you may need to restart the kernel to use updated packages.\n"
     ]
    },
    {
     "name": "stderr",
     "output_type": "stream",
     "text": [
      "WARNING: You are using pip version 20.2.3; however, version 23.1.2 is available.\n",
      "You should consider upgrading via the 'c:\\users\\hp\\appdata\\local\\programs\\python\\python39\\python.exe -m pip install --upgrade pip' command.\n"
     ]
    }
   ],
   "source": [
    "pip install xgboost"
   ]
  },
  {
   "cell_type": "code",
   "execution_count": 53,
   "id": "ec33f0f8",
   "metadata": {},
   "outputs": [],
   "source": [
    "import xgboost as xgb\n",
    "xgb_cl = xgb.XGBClassifier()\n",
    "data['Result'] = [1 if i==1 else 0 for i in data['Result']]"
   ]
  },
  {
   "cell_type": "code",
   "execution_count": 54,
   "id": "be5a88cb",
   "metadata": {},
   "outputs": [],
   "source": [
    "d = data[['Age', 'STD', 'HIV TEST IN PAST YEAR', 'AIDS education', 'Places of seeking sex partners', 'SEXUAL ORIENTATION', 'Drug- taking', 'Result']]"
   ]
  },
  {
   "cell_type": "code",
   "execution_count": 55,
   "id": "bb15c206",
   "metadata": {},
   "outputs": [
    {
     "data": {
      "text/html": [
       "<div>\n",
       "<style scoped>\n",
       "    .dataframe tbody tr th:only-of-type {\n",
       "        vertical-align: middle;\n",
       "    }\n",
       "\n",
       "    .dataframe tbody tr th {\n",
       "        vertical-align: top;\n",
       "    }\n",
       "\n",
       "    .dataframe thead th {\n",
       "        text-align: right;\n",
       "    }\n",
       "</style>\n",
       "<table border=\"1\" class=\"dataframe\">\n",
       "  <thead>\n",
       "    <tr style=\"text-align: right;\">\n",
       "      <th></th>\n",
       "      <th>Age</th>\n",
       "      <th>STD</th>\n",
       "      <th>HIV TEST IN PAST YEAR</th>\n",
       "      <th>AIDS education</th>\n",
       "      <th>Places of seeking sex partners</th>\n",
       "      <th>SEXUAL ORIENTATION</th>\n",
       "      <th>Drug- taking</th>\n",
       "      <th>Result</th>\n",
       "    </tr>\n",
       "  </thead>\n",
       "  <tbody>\n",
       "    <tr>\n",
       "      <th>0</th>\n",
       "      <td>22</td>\n",
       "      <td>1</td>\n",
       "      <td>2</td>\n",
       "      <td>1</td>\n",
       "      <td>1</td>\n",
       "      <td>1</td>\n",
       "      <td>2</td>\n",
       "      <td>1</td>\n",
       "    </tr>\n",
       "    <tr>\n",
       "      <th>1</th>\n",
       "      <td>20</td>\n",
       "      <td>1</td>\n",
       "      <td>1</td>\n",
       "      <td>2</td>\n",
       "      <td>2</td>\n",
       "      <td>2</td>\n",
       "      <td>1</td>\n",
       "      <td>0</td>\n",
       "    </tr>\n",
       "    <tr>\n",
       "      <th>2</th>\n",
       "      <td>23</td>\n",
       "      <td>2</td>\n",
       "      <td>1</td>\n",
       "      <td>2</td>\n",
       "      <td>2</td>\n",
       "      <td>3</td>\n",
       "      <td>1</td>\n",
       "      <td>0</td>\n",
       "    </tr>\n",
       "    <tr>\n",
       "      <th>3</th>\n",
       "      <td>24</td>\n",
       "      <td>1</td>\n",
       "      <td>2</td>\n",
       "      <td>1</td>\n",
       "      <td>3</td>\n",
       "      <td>1</td>\n",
       "      <td>2</td>\n",
       "      <td>1</td>\n",
       "    </tr>\n",
       "    <tr>\n",
       "      <th>4</th>\n",
       "      <td>18</td>\n",
       "      <td>2</td>\n",
       "      <td>2</td>\n",
       "      <td>1</td>\n",
       "      <td>4</td>\n",
       "      <td>2</td>\n",
       "      <td>2</td>\n",
       "      <td>1</td>\n",
       "    </tr>\n",
       "    <tr>\n",
       "      <th>...</th>\n",
       "      <td>...</td>\n",
       "      <td>...</td>\n",
       "      <td>...</td>\n",
       "      <td>...</td>\n",
       "      <td>...</td>\n",
       "      <td>...</td>\n",
       "      <td>...</td>\n",
       "      <td>...</td>\n",
       "    </tr>\n",
       "    <tr>\n",
       "      <th>693</th>\n",
       "      <td>19</td>\n",
       "      <td>2</td>\n",
       "      <td>1</td>\n",
       "      <td>1</td>\n",
       "      <td>4</td>\n",
       "      <td>1</td>\n",
       "      <td>1</td>\n",
       "      <td>1</td>\n",
       "    </tr>\n",
       "    <tr>\n",
       "      <th>694</th>\n",
       "      <td>47</td>\n",
       "      <td>1</td>\n",
       "      <td>1</td>\n",
       "      <td>2</td>\n",
       "      <td>1</td>\n",
       "      <td>2</td>\n",
       "      <td>1</td>\n",
       "      <td>0</td>\n",
       "    </tr>\n",
       "    <tr>\n",
       "      <th>695</th>\n",
       "      <td>34</td>\n",
       "      <td>2</td>\n",
       "      <td>2</td>\n",
       "      <td>2</td>\n",
       "      <td>3</td>\n",
       "      <td>3</td>\n",
       "      <td>2</td>\n",
       "      <td>0</td>\n",
       "    </tr>\n",
       "    <tr>\n",
       "      <th>696</th>\n",
       "      <td>25</td>\n",
       "      <td>1</td>\n",
       "      <td>1</td>\n",
       "      <td>1</td>\n",
       "      <td>5</td>\n",
       "      <td>1</td>\n",
       "      <td>2</td>\n",
       "      <td>1</td>\n",
       "    </tr>\n",
       "    <tr>\n",
       "      <th>697</th>\n",
       "      <td>46</td>\n",
       "      <td>2</td>\n",
       "      <td>2</td>\n",
       "      <td>1</td>\n",
       "      <td>4</td>\n",
       "      <td>3</td>\n",
       "      <td>1</td>\n",
       "      <td>1</td>\n",
       "    </tr>\n",
       "  </tbody>\n",
       "</table>\n",
       "<p>698 rows × 8 columns</p>\n",
       "</div>"
      ],
      "text/plain": [
       "     Age  STD  HIV TEST IN PAST YEAR  AIDS education  \\\n",
       "0     22    1                      2               1   \n",
       "1     20    1                      1               2   \n",
       "2     23    2                      1               2   \n",
       "3     24    1                      2               1   \n",
       "4     18    2                      2               1   \n",
       "..   ...  ...                    ...             ...   \n",
       "693   19    2                      1               1   \n",
       "694   47    1                      1               2   \n",
       "695   34    2                      2               2   \n",
       "696   25    1                      1               1   \n",
       "697   46    2                      2               1   \n",
       "\n",
       "     Places of seeking sex partners  SEXUAL ORIENTATION  Drug- taking  Result  \n",
       "0                                 1                   1             2       1  \n",
       "1                                 2                   2             1       0  \n",
       "2                                 2                   3             1       0  \n",
       "3                                 3                   1             2       1  \n",
       "4                                 4                   2             2       1  \n",
       "..                              ...                 ...           ...     ...  \n",
       "693                               4                   1             1       1  \n",
       "694                               1                   2             1       0  \n",
       "695                               3                   3             2       0  \n",
       "696                               5                   1             2       1  \n",
       "697                               4                   3             1       1  \n",
       "\n",
       "[698 rows x 8 columns]"
      ]
     },
     "execution_count": 55,
     "metadata": {},
     "output_type": "execute_result"
    }
   ],
   "source": [
    "d"
   ]
  },
  {
   "cell_type": "code",
   "execution_count": 56,
   "id": "c0cef126",
   "metadata": {},
   "outputs": [],
   "source": [
    "x = d.drop('Result', axis=1)\n",
    "y = d['Result']"
   ]
  },
  {
   "cell_type": "code",
   "execution_count": 57,
   "id": "b7a45ba7",
   "metadata": {},
   "outputs": [],
   "source": [
    "X_train,X_test,y_train,y_test = train_test_split(x,y,test_size = 0.20,random_state=42)\n",
    "sc = StandardScaler()\n",
    "X_train = sc.fit_transform(X_train)\n",
    "X_test = sc.transform(X_test)\n",
    "y_train = np.array(y_train)\n",
    "y_test = np.array(y_test)"
   ]
  },
  {
   "cell_type": "code",
   "execution_count": 58,
   "id": "fbe4342f",
   "metadata": {},
   "outputs": [
    {
     "data": {
      "text/plain": [
       "XGBClassifier(base_score=None, booster=None, callbacks=None,\n",
       "              colsample_bylevel=None, colsample_bynode=None,\n",
       "              colsample_bytree=None, early_stopping_rounds=None,\n",
       "              enable_categorical=False, eval_metric=None, feature_types=None,\n",
       "              gamma=None, gpu_id=None, grow_policy=None, importance_type=None,\n",
       "              interaction_constraints=None, learning_rate=None, max_bin=None,\n",
       "              max_cat_threshold=None, max_cat_to_onehot=None,\n",
       "              max_delta_step=None, max_depth=None, max_leaves=None,\n",
       "              min_child_weight=None, missing=nan, monotone_constraints=None,\n",
       "              n_estimators=100, n_jobs=None, num_parallel_tree=None,\n",
       "              predictor=None, random_state=None, ...)"
      ]
     },
     "execution_count": 58,
     "metadata": {},
     "output_type": "execute_result"
    }
   ],
   "source": [
    "xgb_cl.fit(X_train, y_train)"
   ]
  },
  {
   "cell_type": "code",
   "execution_count": 59,
   "id": "0468717d",
   "metadata": {},
   "outputs": [],
   "source": [
    "preds = xgb_cl.predict(X_test)\n"
   ]
  },
  {
   "cell_type": "code",
   "execution_count": 60,
   "id": "e54d7804",
   "metadata": {},
   "outputs": [
    {
     "data": {
      "text/plain": [
       "array([1, 0, 0, 1, 0, 0, 0, 0, 1, 0, 0, 1, 0, 0, 0, 0, 0, 1, 1, 1, 0, 0,\n",
       "       1, 0, 1, 1, 0, 1, 0, 0, 0, 0, 0, 0, 1, 1, 1, 0, 1, 1, 1, 0, 0, 0,\n",
       "       1, 0, 1, 1, 1, 1, 0, 1, 1, 0, 0, 0, 1, 1, 0, 0, 0, 1, 1, 0, 1, 0,\n",
       "       0, 1, 0, 0, 1, 1, 1, 1, 1, 1, 1, 0, 0, 1, 1, 0, 1, 0, 0, 0, 1, 0,\n",
       "       1, 0, 0, 1, 1, 0, 1, 1, 1, 1, 1, 0, 1, 1, 1, 1, 1, 1, 0, 0, 1, 0,\n",
       "       1, 1, 1, 1, 1, 1, 1, 0, 1, 1, 1, 1, 0, 0, 1, 1, 0, 1, 1, 1, 1, 1,\n",
       "       0, 0, 0, 1, 0, 0, 0, 1])"
      ]
     },
     "execution_count": 60,
     "metadata": {},
     "output_type": "execute_result"
    }
   ],
   "source": [
    "preds"
   ]
  },
  {
   "cell_type": "markdown",
   "id": "6881fac0",
   "metadata": {},
   "source": [
    "## accuracy_score(y_test, preds)"
   ]
  },
  {
   "cell_type": "code",
   "execution_count": 61,
   "id": "957bf037",
   "metadata": {},
   "outputs": [],
   "source": [
    "from sklearn.metrics import f1_score"
   ]
  },
  {
   "cell_type": "code",
   "execution_count": 62,
   "id": "45eecad0",
   "metadata": {},
   "outputs": [],
   "source": [
    "f1score = f1_score(y_test, preds, average='weighted')"
   ]
  },
  {
   "cell_type": "code",
   "execution_count": 63,
   "id": "0132149b",
   "metadata": {},
   "outputs": [
    {
     "data": {
      "text/plain": [
       "0.8503483870967742"
      ]
     },
     "execution_count": 63,
     "metadata": {},
     "output_type": "execute_result"
    }
   ],
   "source": [
    "f1score"
   ]
  },
  {
   "cell_type": "markdown",
   "id": "6fbf1646",
   "metadata": {},
   "source": [
    "**Bar Plot between the accuracies**"
   ]
  },
  {
   "cell_type": "code",
   "execution_count": 64,
   "id": "fa5173ba",
   "metadata": {},
   "outputs": [
    {
     "data": {
      "image/png": "[encoded data removed]",
      "text/plain": [
       "<Figure size 1440x576 with 1 Axes>"
      ]
     },
     "metadata": {},
     "output_type": "display_data"
    }
   ],
   "source": [
    "acc = {\"XGBooster\": 85, \"RandomForest Classifier\": 83.5, \"KNeigbour Classifier\": 81.4, \"SVM\": 80, \"Logistic Regression\": 75.1, \"Gradient Boosting Classifier\": 77.8}\n",
    "Algorithms = list(acc.keys())\n",
    "values = list(acc.values())\n",
    "fig = plt.figure(figsize = (20, 8))\n",
    "plt.bar(Algorithms, values, color ='maroon',\n",
    "        width = 0.4)\n",
    "\n",
    "plt.xlabel(\"Algorithms\")\n",
    "plt.ylabel(\"Accuracy\")\n",
    "plt.title(\"Accuracy Chart\")\n",
    "plt.show()"
   ]
  },
  {
   "cell_type": "code",
   "execution_count": 65,
   "id": "6438990c",
   "metadata": {},
   "outputs": [],
   "source": [
    "x = data.drop('Result', axis=1)\n",
    "y = data['Result']"
   ]
  },
  {
   "cell_type": "code",
   "execution_count": 66,
   "id": "b05eb259",
   "metadata": {},
   "outputs": [],
   "source": [
    "X_train,X_test,y_train,y_test = train_test_split(x,y,test_size = 0.20,random_state=42)"
   ]
  },
  {
   "cell_type": "code",
   "execution_count": 84,
   "id": "783838ce",
   "metadata": {},
   "outputs": [],
   "source": [
    "from sklearn.metrics import f1_score, precision_score, recall_score\n",
    "sc = StandardScaler()\n",
    "X_train = sc.fit_transform(X_train)\n",
    "X_test = sc.transform(X_test) # here the data is already fitted in scale from first step hence simply sc.transform"
   ]
  },
  {
   "cell_type": "code",
   "execution_count": 68,
   "id": "95985c2b",
   "metadata": {},
   "outputs": [],
   "source": [
    "y_train = np.array(y_train)\n",
    "y_test = np.array(y_test)"
   ]
  },
  {
   "cell_type": "code",
   "execution_count": 85,
   "id": "f961b4a2",
   "metadata": {},
   "outputs": [
    {
     "name": "stdout",
     "output_type": "stream",
     "text": [
      "0.8714285714285714\n",
      "0.881578947368421\n",
      "0.8481012658227848\n",
      "0.9178082191780822\n"
     ]
    }
   ],
   "source": [
    "r= RandomForestClassifier()\n",
    "r.fit(X_train,y_train)\n",
    "yc4 = r.predict(X_test)\n",
    "print(accuracy_score(y_test,yc4))\n",
    "print(f1_score(y_test,yc4))\n",
    "print(recall_score(y_test,yc4))\n",
    "print(precision_score(y_test,yc4))"
   ]
  },
  {
   "cell_type": "code",
   "execution_count": 86,
   "id": "9eab59bb",
   "metadata": {},
   "outputs": [
    {
     "name": "stdout",
     "output_type": "stream",
     "text": [
      "0.7571428571428571\n",
      "0.7763157894736841\n",
      "0.7468354430379747\n",
      "0.8082191780821918\n"
     ]
    }
   ],
   "source": [
    "r= LogisticRegression()\n",
    "r.fit(X_train,y_train)\n",
    "yc4 = r.predict(X_test)\n",
    "print(accuracy_score(y_test,yc4))\n",
    "print(f1_score(y_test,yc4))\n",
    "print(recall_score(y_test,yc4))\n",
    "print(precision_score(y_test,yc4))"
   ]
  },
  {
   "cell_type": "code",
   "execution_count": 88,
   "id": "daa133ea",
   "metadata": {},
   "outputs": [
    {
     "name": "stdout",
     "output_type": "stream",
     "text": [
      "0.8357142857142857\n",
      "0.7763157894736841\n",
      "0.7468354430379747\n",
      "0.8082191780821918\n"
     ]
    }
   ],
   "source": [
    "g = GradientBoostingClassifier()\n",
    "g.fit(X_train,y_train)\n",
    "yc5 = g.predict(X_test)\n",
    "print(accuracy_score(y_test,yc5))\n",
    "print(f1_score(y_test,yc5))\n",
    "print(recall_score(y_test,yc5))\n",
    "print(precision_score(y_test,yc5))"
   ]
  },
  {
   "cell_type": "code",
   "execution_count": 89,
   "id": "a85504ea",
   "metadata": {},
   "outputs": [
    {
     "name": "stdout",
     "output_type": "stream",
     "text": [
      "0.7857142857142857\n",
      "0.8051948051948051\n",
      "0.7848101265822784\n",
      "0.8266666666666667\n"
     ]
    }
   ],
   "source": [
    "k = KNeighborsClassifier()\n",
    "k.fit(X_train,y_train)\n",
    "yc3 = k.predict(X_test)\n",
    "print(accuracy_score(y_test,yc3))\n",
    "print(f1_score(y_test,yc3))\n",
    "print(recall_score(y_test,yc3))\n",
    "print(precision_score(y_test,yc3))"
   ]
  },
  {
   "cell_type": "code",
   "execution_count": 73,
   "id": "a560fdcb",
   "metadata": {},
   "outputs": [],
   "source": [
    "import xgboost as xgb\n",
    "xgb_cl = xgb.XGBClassifier()\n",
    "data['Result'] = [1 if i==1 else 0 for i in data['Result']]"
   ]
  },
  {
   "cell_type": "code",
   "execution_count": 74,
   "id": "e7a729de",
   "metadata": {},
   "outputs": [
    {
     "data": {
      "text/plain": [
       "XGBClassifier(base_score=None, booster=None, callbacks=None,\n",
       "              colsample_bylevel=None, colsample_bynode=None,\n",
       "              colsample_bytree=None, early_stopping_rounds=None,\n",
       "              enable_categorical=False, eval_metric=None, feature_types=None,\n",
       "              gamma=None, gpu_id=None, grow_policy=None, importance_type=None,\n",
       "              interaction_constraints=None, learning_rate=None, max_bin=None,\n",
       "              max_cat_threshold=None, max_cat_to_onehot=None,\n",
       "              max_delta_step=None, max_depth=None, max_leaves=None,\n",
       "              min_child_weight=None, missing=nan, monotone_constraints=None,\n",
       "              n_estimators=100, n_jobs=None, num_parallel_tree=None,\n",
       "              predictor=None, random_state=None, ...)"
      ]
     },
     "execution_count": 74,
     "metadata": {},
     "output_type": "execute_result"
    }
   ],
   "source": [
    "xgb_cl.fit(X_train, y_train)"
   ]
  },
  {
   "cell_type": "code",
   "execution_count": 75,
   "id": "8ccefacc",
   "metadata": {},
   "outputs": [],
   "source": [
    "f1score = f1_score(y_test, preds, average='weighted')"
   ]
  },
  {
   "cell_type": "code",
   "execution_count": 76,
   "id": "d39090ca",
   "metadata": {},
   "outputs": [
    {
     "data": {
      "text/plain": [
       "0.8503483870967742"
      ]
     },
     "execution_count": 76,
     "metadata": {},
     "output_type": "execute_result"
    }
   ],
   "source": [
    "f1score"
   ]
  },
  {
   "cell_type": "code",
   "execution_count": 90,
   "id": "bca632d5",
   "metadata": {},
   "outputs": [
    {
     "name": "stdout",
     "output_type": "stream",
     "text": [
      "0.85\n",
      "0.8645161290322582\n",
      "0.8481012658227848\n",
      "0.881578947368421\n"
     ]
    }
   ],
   "source": [
    "print(accuracy_score(y_test,preds))\n",
    "print(f1_score(y_test,preds))\n",
    "print(recall_score(y_test,preds))\n",
    "print(precision_score(y_test,preds))"
   ]
  },
  {
   "cell_type": "markdown",
   "id": "14df486c",
   "metadata": {},
   "source": [
    "###### x"
   ]
  },
  {
   "cell_type": "code",
   "execution_count": 79,
   "id": "1a7c0f90",
   "metadata": {},
   "outputs": [
    {
     "data": {
      "image/png": "[encoded data removed]",
      "text/plain": [
       "<Figure size 1440x576 with 1 Axes>"
      ]
     },
     "metadata": {},
     "output_type": "display_data"
    }
   ],
   "source": [
    "acc = {\"XGBooster\": 85, \"RandomForest Classifier\": 87.1, \"KNeigbour Classifier\": 78.5, \"SVM\":80 , \"Logistic Regression\": 75.1, \"Gradient Boosting Classifier\": 82.8}\n",
    "Algorithms = list(acc.keys())\n",
    "values = list(acc.values())\n",
    "fig = plt.figure(figsize = (20, 8))\n",
    "plt.bar(Algorithms, values, color ='blue',\n",
    "        width = 0.4)\n",
    "\n",
    "plt.xlabel(\"Algorithms\")\n",
    "plt.ylabel(\"Accuracy\")\n",
    "plt.title(\"Accuracy Chart\")\n",
    "plt.show()"
   ]
  },
  {
   "cell_type": "code",
   "execution_count": null,
   "id": "13b4afc2",
   "metadata": {},
   "outputs": [],
   "source": []
  }
 ],
 "metadata": {
  "kernelspec": {
   "display_name": "Python 3 (ipykernel)",
   "language": "python",
   "name": "python3"
  },
  "language_info": {
   "codemirror_mode": {
    "name": "ipython",
    "version": 3
   },
   "file_extension": ".py",
   "mimetype": "text/x-python",
   "name": "python",
   "nbconvert_exporter": "python",
   "pygments_lexer": "ipython3",
   "version": "3.9.0"
  }
 },
 "nbformat": 4,
 "nbformat_minor": 5
}
